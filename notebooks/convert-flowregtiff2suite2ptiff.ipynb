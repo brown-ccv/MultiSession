{
 "cells": [
  {
   "cell_type": "markdown",
   "id": "5c04ceeb-e83d-4118-8843-4b0e9afd465a",
   "metadata": {},
   "source": [
    "# Convert 2-channel TIFF from `flow_registration` to `suite2p` \n",
    "\n",
    "This notebook converts the TIFF stack output from `flow_registration` with dimension `frame x spatial_1 x spatial_2 x channel` to what `suite2p` expects for a 2-channel TIFF stack: `frame x channel x spatial_1 x spatial_2`. \n",
    "\n",
    "This basically just transpose the dimensions and saves as an OME.TIFF\n",
    "\n",
    "## Requirements\n",
    "\n",
    "- `numpy`\n",
    "- `pyometiff`\n",
    "- `scikit-image`\n",
    "\n",
    "If these are not installed, do this in the activated environment:\n",
    "\n",
    "```bash\n",
    "pip install numpy pyometiff scikit-image\n",
    "```\n",
    "\n",
    "## Caution on memory\n",
    "\n",
    "This current reads in the whole TIFF stack in memory instead doing it in frame batches, so you should sufficient memory."
   ]
  },
  {
   "cell_type": "code",
   "execution_count": null,
   "id": "db413ba4-ece8-451e-a8a6-8b96961be99d",
   "metadata": {},
   "outputs": [],
   "source": [
    "# %pip install scikit-image pyometiff numpy\n",
    "\n",
    "import os\n",
    "import glob\n",
    "\n",
    "import numpy as np\n",
    "import skimage.io as skio\n",
    "from pyometiff import OMETIFFWriter"
   ]
  },
  {
   "cell_type": "code",
   "execution_count": null,
   "id": "ee4e1ffe-3cfd-42fb-9f92-6dd843470547",
   "metadata": {},
   "outputs": [],
   "source": [
    "# define paths\n",
    "input_tiff_path = \"PATH/TO/FLOW/REG/compensated.TIFF\" # input\n",
    "output_tiff_path = \"out-data/flowreg_tcyx_4s2p.ome.tiff\" # output\n",
    "output_dim_order = \"TCYX\" # what suite2p wants; don't change"
   ]
  },
  {
   "cell_type": "code",
   "execution_count": null,
   "id": "aacdafc4-e405-4c51-a6c2-f184047bdff6",
   "metadata": {},
   "outputs": [],
   "source": [
    "# read\n",
    "X = skio.imread(input_tiff_path) # flowreg is \"TYXC\"\n",
    "X = np.transpose(X, (0,3,1,2))\n",
    "\n",
    "# write\n",
    "writer = OMETIFFWriter(\n",
    "    fpath=output_tiff_path,\n",
    "    dimension_order=output_dim_order,\n",
    "    array=X,\n",
    "    metadata=dict(),\n",
    "    explicit_tiffdata=False,\n",
    "    bigtiff=True\n",
    ")\n",
    "\n",
    "writer.write()"
   ]
  }
 ],
 "metadata": {
  "kernelspec": {
   "display_name": "Python 3 (ipykernel)",
   "language": "python",
   "name": "python3"
  },
  "language_info": {
   "codemirror_mode": {
    "name": "ipython",
    "version": 3
   },
   "file_extension": ".py",
   "mimetype": "text/x-python",
   "name": "python",
   "nbconvert_exporter": "python",
   "pygments_lexer": "ipython3",
   "version": "3.8.13"
  },
  "scenes_data": {
   "active_scene": "Default Scene",
   "init_scene": "",
   "scenes": [
    "Default Scene"
   ]
  },
  "widgets": {
   "application/vnd.jupyter.widget-state+json": {
    "state": {},
    "version_major": 2,
    "version_minor": 0
   }
  }
 },
 "nbformat": 4,
 "nbformat_minor": 5
}
