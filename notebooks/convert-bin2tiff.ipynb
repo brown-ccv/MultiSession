{
 "cells": [
  {
   "cell_type": "markdown",
   "id": "d197cc2c-bc68-485a-ae34-d54ed2e4a582",
   "metadata": {},
   "source": [
    "# Convert `suite2p` binary files to tiff stacks"
   ]
  },
  {
   "cell_type": "markdown",
   "id": "ea818e9d-0892-4517-9fbc-283a5c81cc24",
   "metadata": {},
   "source": [
    "This is a helper notebook to convert the `suite2p` binary files to tiff stacks (in the same folder).\n",
    "\n",
    "| Binary input file | Tiff output file | \n",
    "| --: | :-- | \n",
    "| `data.bin` | `chan1.tiff` | \n",
    "| `data_chan2.bin` | `chan2.tiff` |\n",
    "| `data_raw.bin` | `chan1_raw.tiff` | \n",
    "| `data_chan2_raw.bin` | `chan2_raw.tiff` |\n",
    "\n",
    "This can be run on any environment as long as it has the necessary packages. If not do:\n",
    "\n",
    "```bash\n",
    "pip install numpy tifffile tqdm\n",
    "```\n",
    "\n",
    "This is preferably running in parallel for faster conversion of multiple files.\n"
   ]
  },
  {
   "cell_type": "code",
   "execution_count": null,
   "id": "eb6c11d4-ef92-4e25-a152-05794f15a72d",
   "metadata": {
    "tags": []
   },
   "outputs": [],
   "source": [
    "import os\n",
    "import glob\n",
    "\n",
    "import numpy as np\n",
    "from tifffile import TiffWriter\n",
    "from tqdm.notebook import tqdm\n",
    "from tqdm.contrib.concurrent import process_map"
   ]
  },
  {
   "cell_type": "code",
   "execution_count": null,
   "id": "038bc5ca-c48a-4dee-a5b4-a1945459a290",
   "metadata": {
    "tags": []
   },
   "outputs": [],
   "source": [
    "# detect ops files with a certain path pattern\n",
    "# alternatively, define `ops_files` as a list pointing to the appropriate `ops.npy` files\n",
    "main_dir = '/oscar/data/afleisc2/collab/multiday-reg/data/SD_*'\n",
    "\n",
    "ops_files = sorted(glob.glob(os.path.join(main_dir, '**/ops.npy'), recursive=True))\n",
    "ops_files"
   ]
  },
  {
   "cell_type": "code",
   "execution_count": null,
   "id": "7de0e424-f76a-42b0-89bc-eac6d4b8f356",
   "metadata": {
    "tags": []
   },
   "outputs": [],
   "source": [
    "len(ops_files)"
   ]
  },
  {
   "cell_type": "code",
   "execution_count": null,
   "id": "66ab5705-9542-4b0a-8aa8-d5bd7752e4eb",
   "metadata": {},
   "outputs": [],
   "source": [
    "def bin2tiff(bin_file, tiff_file, ops_file, tqdm_kwargs=dict()):\n",
    "    \"\"\"Convert a binary mmap file to tiff file from suite2p\"\"\"\n",
    "    # metadata\n",
    "    ops = np.load(ops_file, allow_pickle=True).item()\n",
    "    n_frames, Ly, Lx = ops['nframes'], ops['Ly'], ops['Lx']\n",
    "\n",
    "    # read in binary file\n",
    "    memmap_obj = np.memmap(\n",
    "        bin_file,\n",
    "        mode='r',\n",
    "        dtype='int16',\n",
    "        shape=(n_frames, Ly, Lx)\n",
    "    )\n",
    "    \n",
    "    # write to tiff file\n",
    "    with TiffWriter(tiff_file, bigtiff=True) as f:\n",
    "        for i in tqdm(range(n_frames), **tqdm_kwargs):\n",
    "            curr_frame = np.floor(memmap_obj[i]).astype(np.int16)\n",
    "            f.write(curr_frame, contiguous=True)\n",
    "    \n",
    "    # close binary file\n",
    "    memmap_obj._mmap.close()\n",
    "    "
   ]
  },
  {
   "cell_type": "code",
   "execution_count": null,
   "id": "158b56ec-8cc3-4b1b-ba2c-5dd125908d2b",
   "metadata": {},
   "outputs": [],
   "source": [
    "def bin2tiff_one_ops(ops_file):\n",
    "    \"\"\"Conversion function for parallel\"\"\"\n",
    "    \n",
    "    ops_dir = os.path.dirname(ops_file)\n",
    "    fluo_files = {\n",
    "        'data.bin': 'chan1.tiff', \n",
    "        'data_chan2.bin': 'chan2.tiff',\n",
    "        'data_raw.bin': 'chan1_raw.tiff', \n",
    "        'data_chan2_raw.bin': 'chan2_raw.tiff',\n",
    "    }\n",
    "    \n",
    "    for bin_file, tiff_file in fluo_files.items():\n",
    "        bin_file = os.path.join(ops_dir, bin_file)\n",
    "        tiff_file = os.path.join(ops_dir, tiff_file)\n",
    "        if (\n",
    "            (not os.path.exists(bin_file))\n",
    "            or os.path.exists(tiff_file)\n",
    "        ):\n",
    "            continue\n",
    "        \n",
    "        bin2tiff(\n",
    "            bin_file,\n",
    "            tiff_file,\n",
    "            ops_file,\n",
    "            tqdm_kwargs=dict(\n",
    "                disable = True\n",
    "            )\n",
    "        )\n",
    "\n",
    "process_map(\n",
    "    bin2tiff_one_ops,\n",
    "    ops_files,\n",
    "    max_workers=16\n",
    ")\n",
    "    "
   ]
  }
 ],
 "metadata": {
  "kernelspec": {
   "display_name": "roicat",
   "language": "python",
   "name": "roicat"
  },
  "language_info": {
   "codemirror_mode": {
    "name": "ipython",
    "version": 3
   },
   "file_extension": ".py",
   "mimetype": "text/x-python",
   "name": "python",
   "nbconvert_exporter": "python",
   "pygments_lexer": "ipython3",
   "version": "3.11.7"
  },
  "scenes_data": {
   "active_scene": "Default Scene",
   "init_scene": "",
   "scenes": [
    "Default Scene"
   ]
  },
  "widgets": {
   "application/vnd.jupyter.widget-state+json": {
    "state": {},
    "version_major": 2,
    "version_minor": 0
   }
  }
 },
 "nbformat": 4,
 "nbformat_minor": 5
}
